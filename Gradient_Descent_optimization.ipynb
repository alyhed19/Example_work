{
  "nbformat": 4,
  "nbformat_minor": 0,
  "metadata": {
    "colab": {
      "provenance": [],
      "collapsed_sections": []
    },
    "kernelspec": {
      "name": "python3",
      "display_name": "Python 3"
    },
    "language_info": {
      "name": "python"
    }
  },
  "cells": [
    {
      "cell_type": "code",
      "source": [
        "pip install torchplot\n"
      ],
      "metadata": {
        "colab": {
          "base_uri": "https://localhost:8080/"
        },
        "id": "j_eCuBMG-SkJ",
        "outputId": "ace24265-5ca4-43f6-af74-8bd7867d5d83"
      },
      "execution_count": null,
      "outputs": [
        {
          "output_type": "stream",
          "name": "stdout",
          "text": [
            "Looking in indexes: https://pypi.org/simple, https://us-python.pkg.dev/colab-wheels/public/simple/\n",
            "Collecting torchplot\n",
            "  Downloading torchplot-0.2.0.tar.gz (9.9 kB)\n",
            "  Installing build dependencies ... \u001b[?25l\u001b[?25hdone\n",
            "  Getting requirements to build wheel ... \u001b[?25l\u001b[?25hdone\n",
            "    Preparing wheel metadata ... \u001b[?25l\u001b[?25hdone\n",
            "Requirement already satisfied: torch>=1.3 in /usr/local/lib/python3.7/dist-packages (from torchplot) (1.12.1+cu113)\n",
            "Requirement already satisfied: matplotlib>=3.1.3 in /usr/local/lib/python3.7/dist-packages (from torchplot) (3.2.2)\n",
            "Requirement already satisfied: cycler>=0.10 in /usr/local/lib/python3.7/dist-packages (from matplotlib>=3.1.3->torchplot) (0.11.0)\n",
            "Requirement already satisfied: python-dateutil>=2.1 in /usr/local/lib/python3.7/dist-packages (from matplotlib>=3.1.3->torchplot) (2.8.2)\n",
            "Requirement already satisfied: kiwisolver>=1.0.1 in /usr/local/lib/python3.7/dist-packages (from matplotlib>=3.1.3->torchplot) (1.4.4)\n",
            "Requirement already satisfied: numpy>=1.11 in /usr/local/lib/python3.7/dist-packages (from matplotlib>=3.1.3->torchplot) (1.21.6)\n",
            "Requirement already satisfied: pyparsing!=2.0.4,!=2.1.2,!=2.1.6,>=2.0.1 in /usr/local/lib/python3.7/dist-packages (from matplotlib>=3.1.3->torchplot) (3.0.9)\n",
            "Requirement already satisfied: typing-extensions in /usr/local/lib/python3.7/dist-packages (from kiwisolver>=1.0.1->matplotlib>=3.1.3->torchplot) (4.1.1)\n",
            "Requirement already satisfied: six>=1.5 in /usr/local/lib/python3.7/dist-packages (from python-dateutil>=2.1->matplotlib>=3.1.3->torchplot) (1.15.0)\n",
            "Building wheels for collected packages: torchplot\n",
            "  Building wheel for torchplot (PEP 517) ... \u001b[?25l\u001b[?25hdone\n",
            "  Created wheel for torchplot: filename=torchplot-0.2.0-py3-none-any.whl size=8330 sha256=6abf7a7f7c7713af77a41c73caf84ad49651908dbe55839d68db9272745aa95d\n",
            "  Stored in directory: /root/.cache/pip/wheels/10/2c/51/20e41cb36ecf77321dfab07bc2119951e030e717222d78d742\n",
            "Successfully built torchplot\n",
            "Installing collected packages: torchplot\n",
            "Successfully installed torchplot-0.2.0\n"
          ]
        }
      ]
    },
    {
      "cell_type": "code",
      "execution_count": null,
      "metadata": {
        "id": "ZrGkMdheAeW5",
        "colab": {
          "base_uri": "https://localhost:8080/"
        },
        "outputId": "a1b1f945-09a3-4ceb-e555-6aa5b87ede31"
      },
      "outputs": [
        {
          "output_type": "stream",
          "name": "stdout",
          "text": [
            "Mounted at /content/drive\n"
          ]
        },
        {
          "output_type": "execute_result",
          "data": {
            "text/plain": [
              "['Final Project .mp4',\n",
              " 'Jönköping.mp4',\n",
              " 'Ditt paket är på väg från Jollyroom.se.PDF',\n",
              " 'Colab Notebooks',\n",
              " 'Delphinos',\n",
              " 'CA15_020516-150342.JPG',\n",
              " 'Untitled spreadsheet.gsheet',\n",
              " 'DataEngineeringProject-Group11.docx',\n",
              " 'kob-tzvh-zka - Jul 20, 2022 (1).gjam',\n",
              " 'kob-tzvh-zka - Jul 20, 2022.gjam',\n",
              " 'AI_for_IA']"
            ]
          },
          "metadata": {},
          "execution_count": 2
        }
      ],
      "source": [
        "#Mount your personal Google Drive to colab\n",
        "from google.colab import drive\n",
        "drive.mount('/content/drive')\n",
        "import os\n",
        "os.chdir('drive')\n",
        "os.chdir('MyDrive')\n",
        "os.listdir()"
      ]
    },
    {
      "cell_type": "code",
      "source": [
        "if not os.path.isdir(\"AI_for_IA\"): #create subfolder AI_for_IA if it does\n",
        "  os.mkdir(\"AI_for_IA\") # not already exist\n",
        "os.chdir(\"AI_for_IA\") #move into the new subfolder => current working directory\n",
        "os.getcwd() #check which is the current working directory"
      ],
      "metadata": {
        "id": "0-pF63X8ISvv",
        "colab": {
          "base_uri": "https://localhost:8080/",
          "height": 35
        },
        "outputId": "d390a096-8b2d-4465-94f1-6e331bb74db7"
      },
      "execution_count": null,
      "outputs": [
        {
          "output_type": "execute_result",
          "data": {
            "text/plain": [
              "'/content/drive/MyDrive/AI_for_IA'"
            ],
            "application/vnd.google.colaboratory.intrinsic+json": {
              "type": "string"
            }
          },
          "metadata": {},
          "execution_count": 3
        }
      ]
    },
    {
      "cell_type": "code",
      "source": [
        "import numpy as np \n",
        "import matplotlib.pyplot as plt"
      ],
      "metadata": {
        "id": "o7RbyK5x35_Y"
      },
      "execution_count": 2,
      "outputs": []
    },
    {
      "cell_type": "code",
      "source": [
        "#Problem B.3\n",
        "\n",
        "#define the function \n",
        "def f(x):\n",
        "    return -np.exp(-(x-3.14)**2)\n",
        "\n",
        "#define the x axis\n",
        "x = np.arange(0, 7)\n",
        "#calculate the function over the x values\n",
        "y = f(x)\n",
        "\n",
        "#plotting\n",
        "plt.plot(x,y)\n",
        "plt.show()"
      ],
      "metadata": {
        "colab": {
          "base_uri": "https://localhost:8080/",
          "height": 265
        },
        "id": "L2XLr-0X4qmF",
        "outputId": "b6ab4fc2-7b6e-48ef-fe24-c8bf3f34af04"
      },
      "execution_count": 6,
      "outputs": [
        {
          "output_type": "display_data",
          "data": {
            "text/plain": [
              "<Figure size 432x288 with 1 Axes>"
            ],
            "image/png": "[encoded data removed]"
          },
          "metadata": {
            "needs_background": "light"
          }
        }
      ]
    },
    {
      "cell_type": "code",
      "source": [
        "#Problem B.3 continued\n",
        "\n",
        "#define the derivative of the function\n",
        "def d(x):\n",
        "  return -np.exp(-(x-3.14)**2)*(-2*x+6.28)\n",
        "\n",
        "#choose a starting guess \n",
        "x_start = 5\n",
        "#choose a learning rate\n",
        "learning_rate = 0.3\n",
        "#choose number of iteration \n",
        "n_iteration = 30\n",
        "\n",
        "#create empty lists for x and f(x) trajectories\n",
        "trajectory_x = []\n",
        "trajectory_fx = []\n",
        "\n",
        "#set x updated to the initial guess\n",
        "x_updated = x_start\n",
        "#create a for loop to update x value for the number of iterations \n",
        "for i in range(n_iteration):\n",
        "  #calculate updated x\n",
        "  x_updated = x_updated - (learning_rate*d(x_updated))\n",
        "  #append x and f(x) to the trajectory lists\n",
        "  trajectory_x.append(x_updated)\n",
        "  trajectory_fx.append(f(x_updated))\n",
        "\n",
        "#plotting\n",
        "plt.plot(x,y,'-',trajectory_x,trajectory_fx,'rx')\n",
        "plt.show()\n"
      ],
      "metadata": {
        "id": "5LG1g-3W6tUs",
        "colab": {
          "base_uri": "https://localhost:8080/",
          "height": 265
        },
        "outputId": "b565173e-f95c-4654-acee-f2d75f1e0ea7"
      },
      "execution_count": 7,
      "outputs": [
        {
          "output_type": "display_data",
          "data": {
            "text/plain": [
              "<Figure size 432x288 with 1 Axes>"
            ],
            "image/png": "[encoded data removed]"
          },
          "metadata": {
            "needs_background": "light"
          }
        }
      ]
    },
    {
      "cell_type": "code",
      "source": [
        "#Problem B.3 continued\n",
        "\n",
        "#choose a starting guess \n",
        "x_start = 2\n",
        "#choose a learning rate\n",
        "learning_rate = 0.3\n",
        "#choose number of iteration \n",
        "n_iteration = 30\n",
        "\n",
        "#create empty lists for x and f(x) trajectories\n",
        "trajectory_x = []\n",
        "trajectory_fx = []\n",
        "\n",
        "#set x updated to the initial guess\n",
        "x_updated = x_start\n",
        "#create a for loop to update x value for the number of iterations \n",
        "for i in range(n_iteration):\n",
        "  #calculate updated x\n",
        "  x_updated = x_updated + (learning_rate*d(x_updated))\n",
        "  #append x and f(x) to the trajectory lists\n",
        "  trajectory_x.append(x_updated)\n",
        "  trajectory_fx.append(f(x_updated))\n",
        "\n",
        "#plotting\n",
        "plt.plot(x,y,'-',trajectory_x,trajectory_fx,'rx')\n",
        "plt.show()"
      ],
      "metadata": {
        "colab": {
          "base_uri": "https://localhost:8080/",
          "height": 265
        },
        "id": "jzcDEA8UCute",
        "outputId": "c592dc86-6c6f-4b11-faa5-9af42b732c34"
      },
      "execution_count": 13,
      "outputs": [
        {
          "output_type": "display_data",
          "data": {
            "text/plain": [
              "<Figure size 432x288 with 1 Axes>"
            ],
            "image/png": "[encoded data removed]"
          },
          "metadata": {
            "needs_background": "light"
          }
        }
      ]
    },
    {
      "cell_type": "code",
      "source": [
        "#Problem B.4 \n",
        "\n",
        "#define the function \n",
        "def f(r):\n",
        "    return 2*np.pi*r**2+(710/r)\n",
        "#define the x axis\n",
        "r = np.arange(0,10)\n",
        "#calculate the function over the x values\n",
        "y = f(r)\n",
        "\n",
        "#define the derivative of the function\n",
        "def d(r):\n",
        "  return 4*np.pi*r-(710/r**2)\n",
        "\n",
        "#choose a starting guess \n",
        "r_start = 9\n",
        "#choose a learning rate\n",
        "learning_rate = 0.01\n",
        "#choose number of iteration \n",
        "n_iteration = 50\n",
        "\n",
        "#create empty lists for r and f(r) trajectories\n",
        "trajectory_r = []\n",
        "trajectory_fr = []\n",
        "\n",
        "#set r updated to the initial guess\n",
        "r_updated = r_start\n",
        "#create a for loop to update r value for the number of iterations \n",
        "for i in range(n_iteration):\n",
        "    #calculate updated r\n",
        "    r_updated = r_updated - (learning_rate*d(r_updated))\n",
        "    #append r and f(r) to the trajectory lists\n",
        "    trajectory_r.append(r_updated)\n",
        "    trajectory_fr.append(f(r_updated))\n",
        "\n",
        "#plotting\n",
        "plt.plot(r,y,'-',trajectory_r,trajectory_fr,'rx')\n",
        "plt.xlim([0,10])\n",
        "plt.ylim([250,750])\n",
        "plt.show()\n",
        "\n",
        "\n"
      ],
      "metadata": {
        "colab": {
          "base_uri": "https://localhost:8080/",
          "height": 301
        },
        "id": "inlxB3M5PFOK",
        "outputId": "216d0fb3-4b43-489d-9edc-087ecd3f3e60"
      },
      "execution_count": 15,
      "outputs": [
        {
          "output_type": "stream",
          "name": "stderr",
          "text": [
            "/usr/local/lib/python3.7/dist-packages/ipykernel_launcher.py:3: RuntimeWarning: divide by zero encountered in true_divide\n",
            "  This is separate from the ipykernel package so we can avoid doing imports until\n"
          ]
        },
        {
          "output_type": "display_data",
          "data": {
            "text/plain": [
              "<Figure size 432x288 with 1 Axes>"
            ],
            "image/png": "[encoded data removed]"
          },
          "metadata": {
            "needs_background": "light"
          }
        }
      ]
    },
    {
      "cell_type": "markdown",
      "source": [
        "4 Task C: Auto-differentiation Using PyTorch"
      ],
      "metadata": {
        "id": "vp22AXF1Frbs"
      }
    },
    {
      "cell_type": "markdown",
      "source": [
        "1. By hand: \n",
        "f'(x) = 4(x-1)^3                                 f'(x=2) = 4(2-1) = 4 "
      ],
      "metadata": {
        "id": "vg_1TTEeF5xm"
      }
    },
    {
      "cell_type": "code",
      "source": [
        "import torch \n",
        "from torch import autograd \n",
        "import math"
      ],
      "metadata": {
        "id": "4Sd7XygoRCX9"
      },
      "execution_count": 16,
      "outputs": []
    },
    {
      "cell_type": "code",
      "source": [
        "#Problem C.1\n",
        "\n",
        "#define the differentiable function \n",
        "def f(x): \n",
        "  return torch.pow((x-1),4)+3\n",
        "\n",
        "#create a tensor with the value were we wish to evaluate \n",
        "#the function and its derivative (x=2)\n",
        "x0 = torch.tensor(2.0, requires_grad=True)\n",
        "\n",
        "#evaluate the function at x0\n",
        "fx0 = f(x0)\n",
        "#apply auto-differentiation at x0 using the autograd engine\n",
        "fx0.backward()\n",
        "#retrieve the value of the derivative from the .grad attribute \n",
        "x0.grad\n"
      ],
      "metadata": {
        "colab": {
          "base_uri": "https://localhost:8080/"
        },
        "id": "BchSZdZyFurL",
        "outputId": "0505afac-7daf-4704-9881-9b197cc54b60"
      },
      "execution_count": 17,
      "outputs": [
        {
          "output_type": "execute_result",
          "data": {
            "text/plain": [
              "tensor(4.)"
            ]
          },
          "metadata": {},
          "execution_count": 17
        }
      ]
    },
    {
      "cell_type": "code",
      "source": [
        "#Problem C.2\n",
        "\n",
        "#define the differentiable function \n",
        "def f(x,y,z):\n",
        "  return x*y+x*z+y*z+ torch.pow(x,2)+torch.exp(y)+z*torch.sin(x)\n",
        "\n",
        "#create 3 tensors with the values were we wish to evaluate \n",
        "#the function and its derivative (x=pi, y=2.0, z=2.0)\n",
        "#pi = torch.Tensor(math.pi)\n",
        "x0 = torch.tensor(torch.pi, requires_grad=True)\n",
        "y0 = torch.tensor(2.0, requires_grad=True)\n",
        "z0 = torch.tensor(2.0, requires_grad=True)\n",
        "\n",
        "#evaluate the function at x0,y0&z0\n",
        "f_value = f(x0,y0,z0)\n",
        "#apply auto-differentiation at x0,y0&z0 using the autograd engine\n",
        "f_value.backward()\n",
        "\n",
        "#retrieve the value of the partial derivatives for x0,y0&z0\n",
        "#from the .grad attribute \n",
        "print(x0.grad)\n",
        "print(y0.grad)\n",
        "print(z0.grad)\n"
      ],
      "metadata": {
        "colab": {
          "base_uri": "https://localhost:8080/"
        },
        "id": "j8vISAamQ--c",
        "outputId": "b33492a7-041e-4ca0-adf0-a82aa0b5b3f9"
      },
      "execution_count": 18,
      "outputs": [
        {
          "output_type": "stream",
          "name": "stdout",
          "text": [
            "tensor(8.2832)\n",
            "tensor(12.5306)\n",
            "tensor(5.1416)\n"
          ]
        }
      ]
    },
    {
      "cell_type": "code",
      "source": [
        "#Problem D.1\n",
        "\n",
        "#define the differentiable function \n",
        "def f(x): \n",
        "  return -torch.exp(-(torch.pow(x-torch.pi,2)))+0.01*torch.pow(x-torch.pi,2)\n",
        "\n",
        "#define x axis\n",
        "xx = torch.arange(-5,12)\n",
        "#evaluate the function at the x values\n",
        "yy = f(xx)\n",
        "\n",
        "#plotting\n",
        "plt.plot(xx,yy)\n",
        "plt.xlim([-5,11])\n",
        "plt.ylim([-1,1])\n",
        "plt.show()"
      ],
      "metadata": {
        "colab": {
          "base_uri": "https://localhost:8080/",
          "height": 269
        },
        "id": "luQMbLIymYVH",
        "outputId": "2c82c5d2-6dc2-4441-e70a-d29a7a371a0c"
      },
      "execution_count": 25,
      "outputs": [
        {
          "output_type": "display_data",
          "data": {
            "text/plain": [
              "<Figure size 432x288 with 1 Axes>"
            ],
            "image/png": "[encoded data removed]"
          },
          "metadata": {
            "needs_background": "light"
          }
        }
      ]
    },
    {
      "cell_type": "code",
      "source": [
        "#Problem D.1 continued\n",
        "\n",
        "#create atensor with the values were we wish to evaluate\n",
        "#the function and its derivative\n",
        "x = torch.tensor(6.0, requires_grad=True)\n",
        "\n",
        "#choose the learning rate\n",
        "eta = 0.5\n",
        "#choose number of iteration \n",
        "nr_steps = 50\n",
        "\n",
        "#create empty lists for x and y trajectories\n",
        "x_=[]\n",
        "y_=[]\n",
        "#create a for loop to update x values for the number of iterations \n",
        "for i in range(nr_steps): \n",
        "  #evaluate the function at x\n",
        "  fx = f(x)\n",
        "  #apply auto-differentiation at x using the autograd engine\n",
        "  fx.backward()\n",
        "  with torch.no_grad():\n",
        "    #compute the updated value of x\n",
        "    x -= eta*x.grad\n",
        "    #append the updated values of x and f(x) to the assigned lists\n",
        "    x_.append(x.item())\n",
        "    y_.append(fx.item())\n",
        "  x.grad.zero_()\n",
        "\n",
        "#plotting\n",
        "#plotting the function \n",
        "plt.plot(xx,yy,'b')\n",
        "#plotting the trajectories\n",
        "plt.plot(x_,y_,'ro')\n",
        "plt.xlim([-5,11])\n",
        "plt.ylim([-1,1])\n",
        "plt.show()"
      ],
      "metadata": {
        "colab": {
          "base_uri": "https://localhost:8080/",
          "height": 269
        },
        "id": "_E53TDW_p0zT",
        "outputId": "85e43638-9606-465c-b67e-c796998f4b85"
      },
      "execution_count": 30,
      "outputs": [
        {
          "output_type": "display_data",
          "data": {
            "text/plain": [
              "<Figure size 432x288 with 1 Axes>"
            ],
            "image/png": "[encoded data removed]"
          },
          "metadata": {
            "needs_background": "light"
          }
        }
      ]
    },
    {
      "cell_type": "code",
      "source": [
        "#problem 2D\n",
        "\n",
        "#define the differentiable function \n",
        "def f(x):\n",
        "  one_vector = torch.ones_like(x)\n",
        "  return (x-3*one_vector).T @ (x-3*one_vector)\n",
        "\n",
        "#create atensor with the values were we wish to evaluate\n",
        "#the function and its derivative\n",
        "x= torch.tensor([1.0,2.0], requires_grad=True)\n",
        "\n",
        "#choose the learning rate\n",
        "eta = 0.05\n",
        "#choose number of iteration \n",
        "nr_steps = 100\n",
        "\n",
        "#create empty lists for x and y trajectories\n",
        "x_= []\n",
        "y_=[]\n",
        "\n",
        "#create a for loop to update x values for the number of iterations \n",
        "for i in range(nr_steps): \n",
        "  #evaluate the function at x\n",
        "  fx = f(x)\n",
        "  #apply auto-differentiation at x using the autograd engine\n",
        "  fx.backward()\n",
        "  with torch.no_grad():\n",
        "    #compute the updated value of x\n",
        "    x -= eta*x.grad\n",
        "    #append the updated values of x and f(x) to the assigned lists\n",
        "    x_.append(x.tolist())\n",
        "    y_.append(fx.tolist())\n",
        "  x.grad.zero_()\n",
        "\n",
        "#create two vectors for the contour plot axises \n",
        "xs = torch.linspace(-10, 10, steps=100)\n",
        "ys = torch.linspace(-10, 10, steps=100)\n",
        "\n",
        "#make a mesh grid using the above created vectors\n",
        "x_grid,y_grid = torch.meshgrid(xs,ys)\n",
        "\n",
        "#create a matrix of ones with the size of z\n",
        "z = torch.ones((100,100), dtype=torch.int64)\n",
        "\n",
        "#populate the z matrix with using nested loop\n",
        "# by calculating the values of the function\n",
        "#over the values in xs and ys\n",
        "for i in range(len(xs)):\n",
        "  for j in range(len(ys)):\n",
        "      z[i,j] = torch.pow(xs[i]-3,2)+torch.pow(ys[j]-3,2)\n",
        "\n",
        "#extract the two variables of x (x1,x2) from the trajectory of x\n",
        "#and store them in two seperate lists\n",
        "x1 = [i[0] for i in x_]\n",
        "x2 = [i[1] for i in x_]\n",
        "\n",
        "#plotting\n",
        "plt.contourf(x_grid,y_grid,z)\n",
        "plt.plot(x1,x2,'rx')\n",
        "plt.show()\n"
      ],
      "metadata": {
        "colab": {
          "base_uri": "https://localhost:8080/",
          "height": 269
        },
        "id": "f9cfWNJ16r07",
        "outputId": "36a3d5ac-2bb1-4cea-f186-188953fe2498"
      },
      "execution_count": 31,
      "outputs": [
        {
          "output_type": "display_data",
          "data": {
            "text/plain": [
              "<Figure size 432x288 with 1 Axes>"
            ],
            "image/png": "[encoded data removed]"
          },
          "metadata": {
            "needs_background": "light"
          }
        }
      ]
    },
    {
      "cell_type": "code",
      "source": [
        "#Problem 3D\n",
        "\n",
        "#define the differentiable function \n",
        "def f(t):\n",
        "  return 60*(torch.exp(-0.1*t)-torch.exp(-0.3*t))\n",
        "\n",
        "#define x axis\n",
        "tt = torch.arange(0,200)\n",
        "#evaluate the function at the x values\n",
        "y= f(tt)\n",
        "\n",
        "#plotting\n",
        "plt.plot(tt,y)\n",
        "plt.show()"
      ],
      "metadata": {
        "colab": {
          "base_uri": "https://localhost:8080/",
          "height": 265
        },
        "id": "MlsGg_zvgpQJ",
        "outputId": "2ae56158-91a2-465f-c4c9-40c4efc0ed11"
      },
      "execution_count": 32,
      "outputs": [
        {
          "output_type": "display_data",
          "data": {
            "text/plain": [
              "<Figure size 432x288 with 1 Axes>"
            ],
            "image/png": "[encoded data removed]"
          },
          "metadata": {
            "needs_background": "light"
          }
        }
      ]
    },
    {
      "cell_type": "code",
      "source": [
        "#problem 3D continued\n",
        "\n",
        "#the 5 lines below are for the use of the inverse of the function\n",
        "# #define the differentiable function \n",
        "# def f(t):\n",
        "#   return 60*(-torch.exp(-0.1*t)+torch.exp(-0.3*t)) \n",
        "# tt = torch.arange(0,200)\n",
        "# y= f(tt)\n",
        "\n",
        "#creat a tensor with the value were we wish to evaluate\n",
        "#the function and its derivative\n",
        "t= torch.tensor(50.0, requires_grad=True)\n",
        "\n",
        "#define the multiplication factor of the step length\n",
        "eta = 0.5\n",
        "#define number of iterations\n",
        "nr_steps = 50\n",
        "\n",
        "#create empty lists to store the trajectories \n",
        "t_= []\n",
        "y_=[]\n",
        "\n",
        "#loop over the number iteration\n",
        "for i in range(nr_steps): \n",
        "  #compute the function at t\n",
        "  ft = f(t)\n",
        "  #apply auto-differentiation at t using the autograd engine\n",
        "  ft.backward()\n",
        "  with torch.no_grad():\n",
        "    #compute the updated value of t\n",
        "    t += eta*t.grad\n",
        "    #append the updated values of t and f(t) to the assigned lists\n",
        "    t_.append(t.item())\n",
        "    y_.append(ft.item())\n",
        "  x.grad.zero_()\n",
        "\n",
        "#plotting\n",
        "plt.plot(tt,y)\n",
        "plt.plot(t_,y_,'x')\n",
        "plt.show()\n"
      ],
      "metadata": {
        "colab": {
          "base_uri": "https://localhost:8080/",
          "height": 265
        },
        "id": "3eVp3shZ16OT",
        "outputId": "7e912ea9-f701-49e1-cc68-07ba7f090206"
      },
      "execution_count": 40,
      "outputs": [
        {
          "output_type": "display_data",
          "data": {
            "text/plain": [
              "<Figure size 432x288 with 1 Axes>"
            ],
            "image/png": "[encoded data removed]"
          },
          "metadata": {
            "needs_background": "light"
          }
        }
      ]
    },
    {
      "cell_type": "code",
      "source": [
        "#problem 4D\n",
        "\n",
        "#define the differentiable function \n",
        "def f(x):\n",
        "  return -torch.exp(-torch.pow(x-1,2))-5*torch.exp(-torch.pow(x-10,2))\n",
        "\n",
        "#define x axis\n",
        "xx = torch.arange(-10,20)\n",
        "#evaluate the function at the x values\n",
        "yy = f(xx)\n",
        "\n",
        "#plotting\n",
        "plt.plot(xx,yy)\n",
        "plt.xlim([-10,20])\n",
        "#plt.ylim([-1,1])\n",
        "plt.show()\n"
      ],
      "metadata": {
        "colab": {
          "base_uri": "https://localhost:8080/",
          "height": 265
        },
        "id": "VTPB-ZCp04rN",
        "outputId": "dfffcea4-4dea-4299-d8fd-7885308abc70"
      },
      "execution_count": 64,
      "outputs": [
        {
          "output_type": "display_data",
          "data": {
            "text/plain": [
              "<Figure size 432x288 with 1 Axes>"
            ],
            "image/png": "[encoded data removed]"
          },
          "metadata": {
            "needs_background": "light"
          }
        }
      ]
    },
    {
      "cell_type": "code",
      "source": [
        "#problem 4D continued \n",
        "\n",
        "#creat a tensor with the value were we wish to evaluate\n",
        "#the function and its derivative\n",
        "x= torch.tensor(2.0, requires_grad=True)\n",
        "\n",
        "#define the multiplication factor of the step length\n",
        "eta = 0.05\n",
        "#define number of iterations\n",
        "nr_steps = 50\n",
        "\n",
        "#create empty lists to store the trajectories \n",
        "x_= []\n",
        "y_=[]\n",
        "\n",
        "#loop over the number of iterations\n",
        "for i in range(nr_steps):\n",
        "  #compute the function at x\n",
        "  fx = f(x)\n",
        "  #apply auto-differentiation at x using the autograd engine\n",
        "  fx.backward()\n",
        "  with torch.no_grad():\n",
        "    #compute the updated value of x\n",
        "    x -= eta*x.grad\n",
        "    #append the updated values of x and f(x) to the assigned lists\n",
        "    x_.append(x.item())\n",
        "    y_.append(fx.item())\n",
        "  x.grad.zero_()\n",
        "\n",
        "plt.plot(xx,yy,'b')\n",
        "plt.plot(x_,y_,'rx')\n",
        "plt.xlim([-10,20])\n",
        "plt.ylim([-6,1])\n",
        "plt.show()\n"
      ],
      "metadata": {
        "id": "n5cE1oaf3zn_",
        "colab": {
          "base_uri": "https://localhost:8080/",
          "height": 269
        },
        "outputId": "f188352e-e861-40e5-a6c2-3ec18ea32dec"
      },
      "execution_count": 65,
      "outputs": [
        {
          "output_type": "display_data",
          "data": {
            "text/plain": [
              "<Figure size 432x288 with 1 Axes>"
            ],
            "image/png": "[encoded data removed]"
          },
          "metadata": {
            "needs_background": "light"
          }
        }
      ]
    },
    {
      "cell_type": "code",
      "source": [
        "#problem 4D continued \n",
        "\n",
        "#creat a tensor with the value were we wish to evaluate\n",
        "#the function and its derivative\n",
        "x= torch.tensor(8.0, requires_grad=True)\n",
        "\n",
        "#define the multiplication factor of the step length\n",
        "eta = 0.05\n",
        "#define number of iterations\n",
        "nr_steps = 50\n",
        "\n",
        "#create empty lists to store the trajectories \n",
        "x_= []\n",
        "y_=[]\n",
        "\n",
        "#loop over the number of iterations\n",
        "for i in range(nr_steps):\n",
        "  #compute the function at x\n",
        "  fx = f(x)\n",
        "  #apply auto-differentiation at x using the autograd engine\n",
        "  fx.backward()\n",
        "  with torch.no_grad():\n",
        "    #compute the updated value of x\n",
        "    x -= eta*x.grad\n",
        "    #append the updated values of x and f(x) to the assigned lists\n",
        "    x_.append(x.item())\n",
        "    y_.append(fx.item())\n",
        "  x.grad.zero_()\n",
        "\n",
        "plt.plot(xx,yy,'b')\n",
        "plt.plot(x_,y_,'rx')\n",
        "plt.xlim([-10,20])\n",
        "plt.ylim([-6,1])\n",
        "plt.show()"
      ],
      "metadata": {
        "colab": {
          "base_uri": "https://localhost:8080/",
          "height": 269
        },
        "id": "pyBZBSo4w9ml",
        "outputId": "3e728104-b83c-43e5-f798-c1af79c9cab5"
      },
      "execution_count": 66,
      "outputs": [
        {
          "output_type": "display_data",
          "data": {
            "text/plain": [
              "<Figure size 432x288 with 1 Axes>"
            ],
            "image/png": "[encoded data removed]"
          },
          "metadata": {
            "needs_background": "light"
          }
        }
      ]
    },
    {
      "cell_type": "markdown",
      "source": [
        "The function only converges to a minima when the initial guess is already on one of the minimum curves. when the initial guess is chosen to be on the stright line, the value of x does not move because the gradient is zero. \n",
        "Depending on which minima curve we put our initial guess, x will converges to that minima. \n",
        "for example, if we select, x = 8, we will end up in the global minima but if we select x = 2, we will end up in the local minima"
      ],
      "metadata": {
        "id": "2Ol2w5LgwHN5"
      }
    },
    {
      "cell_type": "code",
      "source": [
        "#Problem D.5\n",
        "\n",
        "def f(x,y): \n",
        "  return torch.pow(torch.pow(x,2)+y-11,2)+torch.pow(x+torch.pow(y,2)-7,2)\n",
        "\n",
        "xs = torch.linspace(-6,7,100)\n",
        "ys = torch.linspace(-6,7,100)\n",
        "\n",
        "x_grid,y_grid = torch.meshgrid(xs,ys)\n",
        "\n",
        "z = torch.ones((100,100), dtype=torch.int64)\n",
        "\n",
        "for i in range(len(xs)):\n",
        "  for j in range(len(ys)):\n",
        "      z[i,j] = f(xs[i],ys[j])\n",
        "\n",
        "plt.contourf(x_grid,y_grid,torch.log(z))\n",
        "plt.show()\n"
      ],
      "metadata": {
        "id": "p6Uep3oHiXSS",
        "colab": {
          "base_uri": "https://localhost:8080/",
          "height": 265
        },
        "outputId": "cd9e7b19-8270-4401-8b4d-79fdbe9596f9"
      },
      "execution_count": 67,
      "outputs": [
        {
          "output_type": "display_data",
          "data": {
            "text/plain": [
              "<Figure size 432x288 with 1 Axes>"
            ],
            "image/png": "[encoded data removed]"
          },
          "metadata": {
            "needs_background": "light"
          }
        }
      ]
    },
    {
      "cell_type": "code",
      "source": [
        "#creat tensors with the values were we wish to evaluate\n",
        "#the function and its derivative\n",
        "x= torch.tensor([1.0], requires_grad=True)\n",
        "y= torch.tensor([2.0], requires_grad=True)\n",
        "\n",
        "#define the multiplication factor of the step length\n",
        "eta = 0.05\n",
        "#define number of iterations\n",
        "nr_steps = 100\n",
        "\n",
        "#create empty lists to store the trajectories \n",
        "x_= []\n",
        "y_=[]\n",
        "\n",
        "#loop over the number of iterations\n",
        "for i in range(nr_steps):\n",
        "  #compute the function at x & y\n",
        "  fxy = f(x,y)\n",
        "  #apply auto-differentiation at x using the autograd engine\n",
        "  fxy.backward()\n",
        "  with torch.no_grad():\n",
        "    #compute the updated value of x\n",
        "    x -= eta*x.grad\n",
        "    y -= eta*x.grad\n",
        "    #append the updated values of x and f(x) to the assigned lists\n",
        "    x_.append(x.item())\n",
        "    y_.append(y.item())\n",
        "  x.grad.zero_()\n",
        "\n",
        "plt.contourf(x_grid,y_grid,torch.log(z))\n",
        "#plt.plot(x_,y_)\n",
        "plt.show()"
      ],
      "metadata": {
        "colab": {
          "base_uri": "https://localhost:8080/",
          "height": 265
        },
        "id": "TYQ423nRxila",
        "outputId": "456a9fdc-5510-4fe1-d329-7572505abc76"
      },
      "execution_count": 82,
      "outputs": [
        {
          "output_type": "display_data",
          "data": {
            "text/plain": [
              "<Figure size 432x288 with 1 Axes>"
            ],
            "image/png": "[encoded data removed]"
          },
          "metadata": {
            "needs_background": "light"
          }
        }
      ]
    }
  ]
}